{
 "cells": [
  {
   "cell_type": "markdown",
   "metadata": {},
   "source": [
    "# Day 1: Inverse Captcha\n",
    "\n",
    "The captcha requires you to review a sequence of digits (your puzzle input) and find the sum of all digits that match the next digit in the list. The list is circular, so the digit after the last digit is the first digit in the list.\n",
    "\n",
    "For example:\n",
    "\n",
    "- `1122` produces a sum of `3` (`1` + `2`) because the first digit (`1`) matches the second digit and the third digit (`2`) matches the fourth digit.\n",
    "- `1111` produces `4` because each digit (all `1`) matches the next.\n",
    "- `1234` produces `0` because no digit matches the next.\n",
    "- `91212129` produces `9` because the only digit that matches the next one is the last digit, `9`.\n",
    "\n",
    "What is the solution to your captcha?"
   ]
  },
  {
   "cell_type": "code",
   "execution_count": 37,
   "metadata": {
    "collapsed": true
   },
   "outputs": [],
   "source": [
    "def checksum_next(digits):\n",
    "    return sum([int(digit) for (digit, next_digit) \n",
    "                in zip(digits, digits[1:]+digits[0]) \n",
    "                if digit == next_digit])"
   ]
  },
  {
   "cell_type": "code",
   "execution_count": 38,
   "metadata": {},
   "outputs": [
    {
     "data": {
      "text/plain": [
       "[3, 4, 0, 9]"
      ]
     },
     "execution_count": 38,
     "metadata": {},
     "output_type": "execute_result"
    }
   ],
   "source": [
    "[checksum_next(digits) for digits in [\"1122\", \"1111\", \"1234\", \"91212129\"]]"
   ]
  },
  {
   "cell_type": "markdown",
   "metadata": {},
   "source": [
    "## Part Two\n",
    "\n",
    "Now, instead of considering the next digit, it wants you to consider the digit halfway around the circular list. That is, if your list contains 10 items, only include a digit in your sum if the digit `10/2 = 5` steps forward matches it. Fortunately, your list has an even number of elements.\n",
    "\n",
    "For example:\n",
    "\n",
    "- `1212` produces `6`: the list contains `4` items, and all four digits match the digit `2` items ahead.\n",
    "- `1221` produces `0`, because every comparison is between a `1` and a `2`.\n",
    "- `123425` produces `4`, because both `2`s match each other, but no other digit has a match.\n",
    "- `123123` produces `12`.\n",
    "- `12131415` produces `4`."
   ]
  },
  {
   "cell_type": "code",
   "execution_count": 24,
   "metadata": {
    "collapsed": true
   },
   "outputs": [],
   "source": [
    "def checksum_rotated(digits):\n",
    "    offset = len(digits) // 2\n",
    "    rotated_digits = digits[offset:] + digits[:offset]\n",
    "    return sum([int(digit) for (digit, matching_digit) \n",
    "         in zip(digits, rotated_digits) \n",
    "         if digit == matching_digit])"
   ]
  },
  {
   "cell_type": "code",
   "execution_count": 25,
   "metadata": {},
   "outputs": [
    {
     "data": {
      "text/plain": [
       "[6, 0, 4, 12, 4]"
      ]
     },
     "execution_count": 25,
     "metadata": {},
     "output_type": "execute_result"
    }
   ],
   "source": [
    "[checksum_rotated(digits) for digits in [\"1212\", \"1221\", \"123425\", \"123123\", \"12131415\"]]\n"
   ]
  },
  {
   "cell_type": "markdown",
   "metadata": {},
   "source": [
    "# Day 2: Corruption Checksum\n",
    "\n",
    "The spreadsheet consists of rows of apparently-random numbers. To make sure the recovery process is on the right track, they need you to calculate the spreadsheet's checksum. For each row, determine the difference between the largest value and the smallest value; the checksum is the sum of all of these differences.\n",
    "\n",
    "For example, given the following spreadsheet:\n",
    "\n",
    "```\n",
    "5 1 9 5\n",
    "7 5 3\n",
    "2 4 6 8\n",
    "```\n",
    "\n",
    "- The first row's largest and smallest values are `9` and `1`, and their difference is `8`.\n",
    "- The second row's largest and smallest values are `7` and `3`, and their difference is `4`.\n",
    "- The third row's difference is `6`.\n",
    "\n",
    "In this example, the spreadsheet's checksum would be `8 + 4 + 6 = 18`.\n"
   ]
  },
  {
   "cell_type": "code",
   "execution_count": 28,
   "metadata": {},
   "outputs": [],
   "source": [
    "def checksum_spreadsheet(input):\n",
    "    return sum([max(row) - min(row) for row in [[int(cell) for cell in line.split()] for line in input.split(\"\\n\")]])\n",
    "    "
   ]
  },
  {
   "cell_type": "code",
   "execution_count": 31,
   "metadata": {},
   "outputs": [
    {
     "data": {
      "text/plain": [
       "18"
      ]
     },
     "execution_count": 31,
     "metadata": {},
     "output_type": "execute_result"
    }
   ],
   "source": [
    "checksum_spreadsheet(\"\"\"5 1 9 5\n",
    "7 5 3\n",
    "2 4 6 8\"\"\")\n"
   ]
  },
  {
   "cell_type": "markdown",
   "metadata": {},
   "source": [
    "## Part Two\n",
    "\n",
    "It sounds like the goal is to find the only two numbers in each row where one evenly divides the other - that is, where the result of the division operation is a whole number. They would like you to find those numbers on each line, divide them, and add up each line's result.\n",
    "\n",
    "For example, given the following spreadsheet:\n",
    "\n",
    "```\n",
    "5 9 2 8\n",
    "9 4 7 3\n",
    "3 8 6 5\n",
    "```\n",
    "\n",
    "- In the first row, the only two numbers that evenly divide are `8` and `2`; the result of this division is `4`.\n",
    "- In the second row, the two numbers are `9` and `3`; the result is `3`.\n",
    "- In the third row, the result is `2`.\n",
    "\n",
    "In this example, the sum of the results would be `4 + 3 + 2 = 9`.\n",
    "\n"
   ]
  },
  {
   "cell_type": "code",
   "execution_count": 77,
   "metadata": {},
   "outputs": [],
   "source": [
    "def checksum_spreadsheet_divisible(input):\n",
    "    return sum([b // a   for row in [sorted([int(cell) for cell in line.split()]) for line in input.split(\"\\n\")] for (a,b) in combinations(row, 2) if b % a == 0])"
   ]
  },
  {
   "cell_type": "code",
   "execution_count": 78,
   "metadata": {},
   "outputs": [
    {
     "data": {
      "text/plain": [
       "9"
      ]
     },
     "execution_count": 78,
     "metadata": {},
     "output_type": "execute_result"
    }
   ],
   "source": [
    "checksum_spreadsheet_divisible(\"\"\"5 9 2 8\n",
    "9 4 7 3\n",
    "3 8 6 5\"\"\")"
   ]
  }
 ],
 "metadata": {
  "kernelspec": {
   "display_name": "Python 3",
   "language": "python",
   "name": "python3"
  },
  "language_info": {
   "codemirror_mode": {
    "name": "ipython",
    "version": 3
   },
   "file_extension": ".py",
   "mimetype": "text/x-python",
   "name": "python",
   "nbconvert_exporter": "python",
   "pygments_lexer": "ipython3",
   "version": "3.5.2"
  }
 },
 "nbformat": 4,
 "nbformat_minor": 2
}
