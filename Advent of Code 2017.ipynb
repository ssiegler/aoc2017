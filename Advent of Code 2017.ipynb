{
 "cells": [
  {
   "cell_type": "markdown",
   "metadata": {},
   "source": [
    "# Day 1: Inverse Captcha\n",
    "\n",
    "The captcha requires you to review a sequence of digits (your puzzle input) and find the sum of all digits that match the next digit in the list. The list is circular, so the digit after the last digit is the first digit in the list.\n",
    "\n",
    "For example:\n",
    "\n",
    "- `1122` produces a sum of `3` (`1` + `2`) because the first digit (`1`) matches the second digit and the third digit (`2`) matches the fourth digit.\n",
    "- `1111` produces `4` because each digit (all `1`) matches the next.\n",
    "- `1234` produces `0` because no digit matches the next.\n",
    "- `91212129` produces `9` because the only digit that matches the next one is the last digit, `9`.\n",
    "\n",
    "What is the solution to your captcha?"
   ]
  },
  {
   "cell_type": "code",
   "execution_count": 37,
   "metadata": {
    "collapsed": true
   },
   "outputs": [],
   "source": [
    "def checksum_next(digits):\n",
    "    return sum([int(digit) for (digit, next_digit) \n",
    "                in zip(digits, digits[1:]+digits[0]) \n",
    "                if digit == next_digit])"
   ]
  },
  {
   "cell_type": "code",
   "execution_count": 38,
   "metadata": {},
   "outputs": [
    {
     "data": {
      "text/plain": [
       "[3, 4, 0, 9]"
      ]
     },
     "execution_count": 38,
     "metadata": {},
     "output_type": "execute_result"
    }
   ],
   "source": [
    "[checksum_next(digits) for digits in [\"1122\", \"1111\", \"1234\", \"91212129\"]]"
   ]
  },
  {
   "cell_type": "markdown",
   "metadata": {},
   "source": [
    "## Part Two\n",
    "\n",
    "Now, instead of considering the next digit, it wants you to consider the digit halfway around the circular list. That is, if your list contains 10 items, only include a digit in your sum if the digit `10/2 = 5` steps forward matches it. Fortunately, your list has an even number of elements.\n",
    "\n",
    "For example:\n",
    "\n",
    "- `1212` produces `6`: the list contains `4` items, and all four digits match the digit `2` items ahead.\n",
    "- `1221` produces `0`, because every comparison is between a `1` and a `2`.\n",
    "- `123425` produces `4`, because both `2`s match each other, but no other digit has a match.\n",
    "- `123123` produces `12`.\n",
    "- `12131415` produces `4`."
   ]
  },
  {
   "cell_type": "code",
   "execution_count": 24,
   "metadata": {
    "collapsed": true
   },
   "outputs": [],
   "source": [
    "def checksum_rotated(digits):\n",
    "    offset = len(digits) // 2\n",
    "    rotated_digits = digits[offset:] + digits[:offset]\n",
    "    return sum([int(digit) for (digit, matching_digit) \n",
    "         in zip(digits, rotated_digits) \n",
    "         if digit == matching_digit])"
   ]
  },
  {
   "cell_type": "code",
   "execution_count": 25,
   "metadata": {},
   "outputs": [
    {
     "data": {
      "text/plain": [
       "[6, 0, 4, 12, 4]"
      ]
     },
     "execution_count": 25,
     "metadata": {},
     "output_type": "execute_result"
    }
   ],
   "source": [
    "[checksum_rotated(digits) for digits in [\"1212\", \"1221\", \"123425\", \"123123\", \"12131415\"]]\n"
   ]
  },
  {
   "cell_type": "markdown",
   "metadata": {},
   "source": [
    "# Day 2: Corruption Checksum\n",
    "\n",
    "The spreadsheet consists of rows of apparently-random numbers. To make sure the recovery process is on the right track, they need you to calculate the spreadsheet's checksum. For each row, determine the difference between the largest value and the smallest value; the checksum is the sum of all of these differences.\n",
    "\n",
    "For example, given the following spreadsheet:\n",
    "\n",
    "```\n",
    "5 1 9 5\n",
    "7 5 3\n",
    "2 4 6 8\n",
    "```\n",
    "\n",
    "- The first row's largest and smallest values are `9` and `1`, and their difference is `8`.\n",
    "- The second row's largest and smallest values are `7` and `3`, and their difference is `4`.\n",
    "- The third row's difference is `6`.\n",
    "\n",
    "In this example, the spreadsheet's checksum would be `8 + 4 + 6 = 18`.\n"
   ]
  },
  {
   "cell_type": "code",
   "execution_count": 28,
   "metadata": {},
   "outputs": [],
   "source": [
    "def checksum_spreadsheet(input):\n",
    "    return sum([max(row) - min(row) for row in [[int(cell) for cell in line.split()] for line in input.split(\"\\n\")]])\n",
    "    "
   ]
  },
  {
   "cell_type": "code",
   "execution_count": 31,
   "metadata": {},
   "outputs": [
    {
     "data": {
      "text/plain": [
       "18"
      ]
     },
     "execution_count": 31,
     "metadata": {},
     "output_type": "execute_result"
    }
   ],
   "source": [
    "checksum_spreadsheet(\"\"\"5 1 9 5\n",
    "7 5 3\n",
    "2 4 6 8\"\"\")\n"
   ]
  },
  {
   "cell_type": "markdown",
   "metadata": {},
   "source": [
    "## Part Two\n",
    "\n",
    "It sounds like the goal is to find the only two numbers in each row where one evenly divides the other - that is, where the result of the division operation is a whole number. They would like you to find those numbers on each line, divide them, and add up each line's result.\n",
    "\n",
    "For example, given the following spreadsheet:\n",
    "\n",
    "```\n",
    "5 9 2 8\n",
    "9 4 7 3\n",
    "3 8 6 5\n",
    "```\n",
    "\n",
    "- In the first row, the only two numbers that evenly divide are `8` and `2`; the result of this division is `4`.\n",
    "- In the second row, the two numbers are `9` and `3`; the result is `3`.\n",
    "- In the third row, the result is `2`.\n",
    "\n",
    "In this example, the sum of the results would be `4 + 3 + 2 = 9`.\n",
    "\n"
   ]
  },
  {
   "cell_type": "code",
   "execution_count": 77,
   "metadata": {},
   "outputs": [],
   "source": [
    "def checksum_spreadsheet_divisible(input):\n",
    "    return sum([b // a   for row in [sorted([int(cell) for cell in line.split()]) for line in input.split(\"\\n\")] for (a,b) in combinations(row, 2) if b % a == 0])"
   ]
  },
  {
   "cell_type": "code",
   "execution_count": 78,
   "metadata": {},
   "outputs": [
    {
     "data": {
      "text/plain": [
       "9"
      ]
     },
     "execution_count": 78,
     "metadata": {},
     "output_type": "execute_result"
    }
   ],
   "source": [
    "checksum_spreadsheet_divisible(\"\"\"5 9 2 8\n",
    "9 4 7 3\n",
    "3 8 6 5\"\"\")"
   ]
  },
  {
   "cell_type": "markdown",
   "metadata": {},
   "source": [
    "## Day 3: Spiral Memory\n",
    "\n",
    "Each square on the grid is allocated in a spiral pattern starting at a location marked 1 and then counting up while spiraling outward. For example, the first few squares are allocated like this:\n",
    "\n",
    "```\n",
    "17  16  15  14  13\n",
    "18   5   4   3  12\n",
    "19   6   1   2  11\n",
    "20   7   8   9  10\n",
    "21  22  23---> ...\n",
    "```\n",
    "\n",
    "While this is very space-efficient (no squares are skipped), requested data must be carried back to square `1` (the location of the only access port for this memory system) by programs that can only move up, down, left, or right. They always take the shortest path: the Manhattan Distance between the location of the data and square `1`.\n",
    "\n",
    "For example:\n",
    "\n",
    "- Data from square `1` is carried `0` steps, since it's at the access port.\n",
    "- Data from square `12` is carried `3` steps, such as: down, left, left.\n",
    "- Data from square `23` is carried only `2` steps: up twice.\n",
    "- Data from square `1024` must be carried `31` steps.\n",
    "\n"
   ]
  },
  {
   "cell_type": "code",
   "execution_count": 326,
   "metadata": {},
   "outputs": [
    {
     "data": {
      "text/plain": [
       "[(1, 0), (12, 3), (23, 2), (1024, 31)]"
      ]
     },
     "execution_count": 326,
     "metadata": {},
     "output_type": "execute_result"
    }
   ],
   "source": [
    "from math import floor,ceil,sqrt\n",
    "\n",
    "def dist(n):\n",
    "    layer = floor(ceil(sqrt(n))/2)\n",
    "    if (layer == 0):\n",
    "        return 0\n",
    "    \n",
    "    square = (2*layer - 1) ** 2\n",
    "    rest = n - square\n",
    "    length = 2*layer\n",
    "    side = ceil(rest / length) - 1\n",
    "    middle = side * length + layer + square\n",
    "    return abs(n - middle) + layer\n",
    "\n",
    "[(a, dist(a)) for a in [1, 12, 23, 1024]]\n"
   ]
  },
  {
   "cell_type": "markdown",
   "metadata": {},
   "source": [
    "## Part Two\n",
    "\n",
    "So, the first few squares' values are chosen as follows:\n",
    "\n",
    "- Square `1` starts with the value `1`.\n",
    "- Square `2` has only one adjacent filled square (with value `1`), so it also stores `1`.\n",
    "- Square `3` has both of the above squares as neighbors and stores the sum of their values, `2`.\n",
    "- Square `4` has all three of the aforementioned squares as neighbors and stores the sum of their values, `4`.\n",
    "- Square `5` only has the first and fourth squares as neighbors, so it gets the value `5`.\n",
    "\n",
    "Once a square is written, its value does not change. Therefore, the first few squares would receive the following values:\n",
    "\n",
    "```\n",
    "147  142  133  122   59\n",
    "304    5    4    2   57\n",
    "330   10    1    1   54\n",
    "351   11   23   25   26\n",
    "362  747  806--->   ...\n",
    "```\n"
   ]
  },
  {
   "cell_type": "markdown",
   "metadata": {},
   "source": [
    "Lookup result in https://oeis.org/A141481/b141481.txt"
   ]
  },
  {
   "cell_type": "markdown",
   "metadata": {},
   "source": [
    "# Day 4: High-Entropy Passphrases\n",
    "\n",
    "A new system policy has been put in place that requires all accounts to use a passphrase instead of simply a password. A passphrase consists of a series of words (lowercase letters) separated by spaces.\n",
    "\n",
    "To ensure security, a valid passphrase must contain no duplicate words.\n",
    "\n",
    "For example:\n",
    "\n",
    "- `aa bb cc dd ee` is valid.\n",
    "- `aa bb cc dd aa` is not valid - the word `aa` appears more than once.\n",
    "- `aa bb cc dd aaa` is valid - `aa` and `aaa` count as different words.\n",
    "\n"
   ]
  },
  {
   "cell_type": "code",
   "execution_count": 329,
   "metadata": {},
   "outputs": [
    {
     "data": {
      "text/plain": [
       "['aa bb cc dd ee', 'aa bb cc dd aaa']"
      ]
     },
     "execution_count": 329,
     "metadata": {},
     "output_type": "execute_result"
    }
   ],
   "source": [
    "def is_valid_passphrase(phrase):\n",
    "    words = phrase.split()\n",
    "    return len(words) == len(set(words))\n",
    "\n",
    "[phrase for phrase in [\"aa bb cc dd ee\",\n",
    "                       \"aa bb cc dd aa\", \n",
    "                       \"aa bb cc dd aaa\"] \n",
    " if is_valid_passphrase(phrase)]"
   ]
  },
  {
   "cell_type": "markdown",
   "metadata": {},
   "source": [
    "# Part Two\n",
    "\n",
    "For added security, yet another system policy has been put in place. Now, a valid passphrase must contain no two words that are anagrams of each other - that is, a passphrase is invalid if any word's letters can be rearranged to form any other word in the passphrase.\n",
    "\n",
    "For example:\n",
    "\n",
    "- `abcde fghij` is a valid passphrase.\n",
    "- `abcde xyz ecdab` is not valid - the letters from the third word can be rearranged to form the first word.\n",
    "- `a ab abc abd abf abj` is a valid passphrase, because all letters need to be used when forming another word.\n",
    "- `iiii oiii ooii oooi oooo` is valid.\n",
    "- `oiii ioii iioi iiio` is not valid - any of these words can be rearranged to form any other word.\n"
   ]
  },
  {
   "cell_type": "code",
   "execution_count": 343,
   "metadata": {},
   "outputs": [
    {
     "data": {
      "text/plain": [
       "['abcde fghij', 'a ab abc abd abf abj', 'iiii oiii ooii oooi oooo']"
      ]
     },
     "execution_count": 343,
     "metadata": {},
     "output_type": "execute_result"
    }
   ],
   "source": [
    "def is_still_valid_passphrase(phrase):\n",
    "    sorted_words = [\" \".join(sorted(word)) for word in phrase.split()]\n",
    "    return len(sorted_words) == len(set(sorted_words))\n",
    "[phrase for phrase in [\"abcde fghij\",\n",
    "                        \"abcde xyz ecdab\",\n",
    "                        \"a ab abc abd abf abj\",\n",
    "                        \"iiii oiii ooii oooi oooo\", \n",
    "                        \"oiii ioii iioi iiio\"]\n",
    "if is_still_valid_passphrase(phrase)]"
   ]
  },
  {
   "cell_type": "markdown",
   "metadata": {},
   "source": [
    "# Day 5: A Maze of Twisty Trampolines, All Alike\n",
    "\n",
    "An urgent interrupt arrives from the CPU: it's trapped in a maze of jump instructions, and it would like assistance from any programs with spare cycles to help find the exit.\n",
    "\n",
    "The message includes a list of the offsets for each jump. Jumps are relative: -1 moves to the previous instruction, and 2 skips the next one. Start at the first instruction in the list. The goal is to follow the jumps until one leads outside the list.\n",
    "\n",
    "In addition, these instructions are a little strange; after each jump, the offset of that instruction increases by 1. So, if you come across an offset of 3, you would move three instructions forward, but change it to a 4 for the next time it is encountered.\n",
    "\n",
    "For example, consider the following list of jump offsets:\n",
    "\n",
    "```\n",
    "0\n",
    "3\n",
    "0\n",
    "1\n",
    "-3\n",
    "```\n",
    "\n",
    "Positive jumps (\"forward\") move downward; negative jumps move upward. For legibility in this example, these offset values will be written all on one line, with the current instruction marked in parentheses. The following steps would be taken before an exit is found:\n",
    "\n",
    "- `(0) 3  0  1  -3`  - before we have taken any steps.\n",
    "- `(1) 3  0  1  -3`  - jump with offset `0` (that is, don't jump at all). Fortunately, the instruction is then incremented to `1`.\n",
    "- `2 (3) 0  1  -3` - step forward because of the instruction we just modified. The first instruction is incremented again, now to `2`.\n",
    "- `2  4  0  1 (-3)` - jump all the way to the end; leave a `4` behind.\n",
    "- `2 (4) 0  1  -2`  - go back to where we just were; increment `-3` to `-2`.\n",
    "- `2  5  0  1  -2`  - jump `4` steps forward, escaping the maze.\n",
    "\n",
    "In this example, the exit is reached in `5` steps."
   ]
  },
  {
   "cell_type": "code",
   "execution_count": null,
   "metadata": {},
   "outputs": [],
   "source": []
  }
 ],
 "metadata": {
  "kernelspec": {
   "display_name": "Python 3",
   "language": "python",
   "name": "python3"
  },
  "language_info": {
   "codemirror_mode": {
    "name": "ipython",
    "version": 3
   },
   "file_extension": ".py",
   "mimetype": "text/x-python",
   "name": "python",
   "nbconvert_exporter": "python",
   "pygments_lexer": "ipython3",
   "version": "3.5.2"
  }
 },
 "nbformat": 4,
 "nbformat_minor": 2
}
