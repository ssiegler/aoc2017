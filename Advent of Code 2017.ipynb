{
 "cells": [
  {
   "cell_type": "markdown",
   "metadata": {},
   "source": [
    "# Day 1: Inverse Captcha\n",
    "\n",
    "The captcha requires you to review a sequence of digits (your puzzle input) and find the sum of all digits that match the next digit in the list. The list is circular, so the digit after the last digit is the first digit in the list.\n",
    "\n",
    "For example:\n",
    "\n",
    "- `1122` produces a sum of `3` (`1` + `2`) because the first digit (`1`) matches the second digit and the third digit (`2`) matches the fourth digit.\n",
    "- `1111` produces `4` because each digit (all `1`) matches the next.\n",
    "- `1234` produces `0` because no digit matches the next.\n",
    "- `91212129` produces `9` because the only digit that matches the next one is the last digit, `9`.\n",
    "\n",
    "What is the solution to your captcha?"
   ]
  },
  {
   "cell_type": "code",
   "execution_count": 37,
   "metadata": {
    "collapsed": true
   },
   "outputs": [],
   "source": [
    "def checksum_next(digits):\n",
    "    return sum([int(digit) for (digit, next_digit) \n",
    "                in zip(digits, digits[1:]+digits[0]) \n",
    "                if digit == next_digit])"
   ]
  },
  {
   "cell_type": "code",
   "execution_count": 38,
   "metadata": {},
   "outputs": [
    {
     "data": {
      "text/plain": [
       "[3, 4, 0, 9]"
      ]
     },
     "execution_count": 38,
     "metadata": {},
     "output_type": "execute_result"
    }
   ],
   "source": [
    "[checksum_next(digits) for digits in [\"1122\", \"1111\", \"1234\", \"91212129\"]]"
   ]
  },
  {
   "cell_type": "markdown",
   "metadata": {},
   "source": [
    "## Part Two\n",
    "\n",
    "Now, instead of considering the next digit, it wants you to consider the digit halfway around the circular list. That is, if your list contains 10 items, only include a digit in your sum if the digit `10/2 = 5` steps forward matches it. Fortunately, your list has an even number of elements.\n",
    "\n",
    "For example:\n",
    "\n",
    "- `1212` produces `6`: the list contains `4` items, and all four digits match the digit `2` items ahead.\n",
    "- `1221` produces `0`, because every comparison is between a `1` and a `2`.\n",
    "- `123425` produces `4`, because both `2`s match each other, but no other digit has a match.\n",
    "- `123123` produces `12`.\n",
    "- `12131415` produces `4`."
   ]
  },
  {
   "cell_type": "code",
   "execution_count": 24,
   "metadata": {
    "collapsed": true
   },
   "outputs": [],
   "source": [
    "def checksum_rotated(digits):\n",
    "    offset = len(digits) // 2\n",
    "    rotated_digits = digits[offset:] + digits[:offset]\n",
    "    return sum([int(digit) for (digit, matching_digit) \n",
    "         in zip(digits, rotated_digits) \n",
    "         if digit == matching_digit])"
   ]
  },
  {
   "cell_type": "code",
   "execution_count": 25,
   "metadata": {},
   "outputs": [
    {
     "data": {
      "text/plain": [
       "[6, 0, 4, 12, 4]"
      ]
     },
     "execution_count": 25,
     "metadata": {},
     "output_type": "execute_result"
    }
   ],
   "source": [
    "[checksum_rotated(digits) for digits in [\"1212\", \"1221\", \"123425\", \"123123\", \"12131415\"]]\n"
   ]
  }
 ],
 "metadata": {
  "kernelspec": {
   "display_name": "Python 3",
   "language": "python",
   "name": "python3"
  },
  "language_info": {
   "codemirror_mode": {
    "name": "ipython",
    "version": 3
   },
   "file_extension": ".py",
   "mimetype": "text/x-python",
   "name": "python",
   "nbconvert_exporter": "python",
   "pygments_lexer": "ipython3",
   "version": "3.6.3"
  }
 },
 "nbformat": 4,
 "nbformat_minor": 2
}
